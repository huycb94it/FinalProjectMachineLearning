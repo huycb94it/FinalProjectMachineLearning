{
 "cells": [
  {
   "cell_type": "code",
   "execution_count": null,
   "id": "8e765148-d39d-4de4-bfbd-696eb04c1ef1",
   "metadata": {
    "is_executing": true
   },
   "outputs": [],
   "source": [
    "import pandas as pd\n",
    "import numpy as np\n",
    "import matplotlib.pyplot as plt\n",
    "import seaborn as sns\n",
    "from sklearn.model_selection import train_test_split\n",
    "from sklearn.linear_model import LinearRegression\n",
    "from sklearn.tree import DecisionTreeRegressor\n",
    "from sklearn.ensemble import RandomForestRegressor\n",
    "from xgboost import XGBRegressor\n",
    "from sklearn.metrics import mean_squared_error\n",
    "from keras.models import Sequential\n",
    "from keras.layers import Dense, Dropout\n",
    "from keras.callbacks import EarlyStopping\n",
    "from keras import regularizers"
   ]
  },
  {
   "cell_type": "code",
   "execution_count": 23,
   "id": "2aabc1e6-a6ce-4291-976f-c48c30ae38e5",
   "metadata": {},
   "outputs": [
    {
     "name": "stdout",
     "output_type": "stream",
     "text": [
      "Defaulting to user installation because normal site-packages is not writeable\n",
      "Looking in links: /usr/share/pip-wheels\n",
      "Requirement already satisfied: xgboost in ./.local/lib/python3.11/site-packages (2.0.3)\n",
      "Collecting tensorflow\n",
      "  Obtaining dependency information for tensorflow from https://files.pythonhosted.org/packages/ed/1a/b4ab4b8f8b3a41fade4899fd00b5b2d2dad0981f3e1bb10df4c522975fd7/tensorflow-2.15.0.post1-cp311-cp311-manylinux_2_17_x86_64.manylinux2014_x86_64.whl.metadata\n",
      "  Using cached tensorflow-2.15.0.post1-cp311-cp311-manylinux_2_17_x86_64.manylinux2014_x86_64.whl.metadata (4.2 kB)\n",
      "Requirement already satisfied: keras in ./.local/lib/python3.11/site-packages (2.15.0)\n",
      "\u001B[31mERROR: Could not find a version that satisfies the requirement tensorflow._api (from versions: none)\u001B[0m\u001B[31m\n",
      "\u001B[0m\u001B[31mERROR: No matching distribution found for tensorflow._api\u001B[0m\u001B[31m\n",
      "\u001B[0m"
     ]
    }
   ],
   "source": [
    "!pip install xgboost tensorflow keras tensorflow._api"
   ]
  },
  {
   "cell_type": "code",
   "execution_count": null,
   "id": "d95328c2-917a-4546-a7fa-8fc5b409e98e",
   "metadata": {},
   "outputs": [],
   "source": [
    "df = pd.read_csv('StudentsPerformance.csv')"
   ]
  },
  {
   "cell_type": "code",
   "execution_count": null,
   "id": "23f1498c-47ea-4ba8-a164-83af57a00923",
   "metadata": {},
   "outputs": [],
   "source": [
    "df.head()"
   ]
  },
  {
   "cell_type": "code",
   "execution_count": null,
   "id": "d21c3ace-44bd-4507-b8f3-92a58e99b6bd",
   "metadata": {},
   "outputs": [],
   "source": [
    "num_features = ['math score', 'reading score', 'writing score']\n",
    "cat_features = ['gender', 'race/ethnicity', 'parental level of education', 'lunch', 'test preparation course']"
   ]
  },
  {
   "cell_type": "code",
   "execution_count": null,
   "id": "3f8850e3-3cc7-4b53-849a-9717ee0a5ff3",
   "metadata": {},
   "outputs": [],
   "source": [
    "\n",
    "df[num_features].hist(bins=30, figsize=(10, 8))\n",
    "for feature in cat_features:\n",
    "    print(df[feature].value_counts())"
   ]
  },
  {
   "cell_type": "code",
   "execution_count": null,
   "id": "5b75d5e2-b1e1-4684-87d5-af9424464787",
   "metadata": {},
   "outputs": [],
   "source": [
    "corr_matrix = df.corr()\n",
    "print(corr_matrix['math score'].sort_values(ascending=False))\n"
   ]
  },
  {
   "cell_type": "code",
   "execution_count": null,
   "id": "f4861a2c-c178-4302-bec8-9722b97d4925",
   "metadata": {},
   "outputs": [],
   "source": [
    "\n",
    "X_train, X_test, y_train, y_test = train_test_split(X, y, test_size=0.2, random_state=42)"
   ]
  },
  {
   "cell_type": "code",
   "execution_count": null,
   "id": "83c885d8-12c9-4999-8200-a763b598d32b",
   "metadata": {},
   "outputs": [],
   "source": [
    "# Linear Regression\n",
    "lin_reg = LinearRegression()\n",
    "lin_reg.fit(X_train, y_train)\n",
    "lin_reg_score = lin_reg.score(X_test, y_test)\n",
    "print('Linear Regression Test score:', lin_reg_score)"
   ]
  },
  {
   "cell_type": "code",
   "execution_count": null,
   "id": "c1ff3fbd-0ac7-49a5-b50a-86305543a8a6",
   "metadata": {},
   "outputs": [],
   "source": [
    "# Decision Tree\n",
    "tree = DecisionTreeRegressor()\n",
    "tree.fit(X_train, y_train)\n",
    "tree_score = tree.score(X_test, y_test)\n",
    "print('Decision Tree Test score:', tree_score)"
   ]
  },
  {
   "cell_type": "code",
   "execution_count": null,
   "id": "98814369-3615-4d10-a8cd-5135e3421705",
   "metadata": {},
   "outputs": [],
   "source": [
    "# Random Forest\n",
    "rf = RandomForestRegressor()\n",
    "rf.fit(X_train, y_train)\n",
    "rf_score = rf.score(X_test, y_test)\n",
    "print('Random Forest Test score:', rf_score)"
   ]
  },
  {
   "cell_type": "code",
   "execution_count": null,
   "id": "a708d06c-11e1-4e50-96d6-76acc9a89082",
   "metadata": {},
   "outputs": [],
   "source": [
    "# XGBoost\n",
    "xgb = XGBRegressor()\n",
    "xgb.fit(X_train, y_train)\n",
    "xgb_score = xgb.score(X_test, y_test)\n",
    "print('XGBoost Test score:', xgb_score)"
   ]
  },
  {
   "cell_type": "code",
   "execution_count": null,
   "id": "24aa36fa-88b3-4915-9e49-c96a3aa89a0d",
   "metadata": {},
   "outputs": [],
   "source": [
    "# 3. Xây dựng Neural Network\n",
    "model = Sequential()\n",
    "model.add(Dense(64, activation='relu', input_dim=X_train.shape[1]))\n",
    "model.add(Dropout(0.2))  # Dropout layer to prevent overfitting\n",
    "model.add(Dense(32, activation='relu'))\n",
    "model.add(Dense(1))"
   ]
  },
  {
   "cell_type": "code",
   "execution_count": null,
   "id": "c1be39bb-6924-4e53-8882-6cc845e2f3d8",
   "metadata": {},
   "outputs": [],
   "source": [
    "model.compile(optimizer='adam', loss='mean_squared_error')\n"
   ]
  },
  {
   "cell_type": "code",
   "execution_count": null,
   "id": "bd76f596-2228-476f-9458-da357631cff3",
   "metadata": {},
   "outputs": [],
   "source": [
    "# Early stopping to prevent overfitting\n",
    "early_stopping = EarlyStopping(monitor='val_loss', patience=5, restore_best_weights=True)"
   ]
  },
  {
   "cell_type": "code",
   "execution_count": null,
   "id": "98678c02-f197-4ccb-81f5-90a32a047ef9",
   "metadata": {},
   "outputs": [],
   "source": [
    "# Fit the model\n",
    "history = model.fit(X_train, y_train, epochs=50, batch_size=32, validation_split=0.2, callbacks=[early_stopping])"
   ]
  },
  {
   "cell_type": "code",
   "execution_count": null,
   "id": "1aa54216-e495-4e01-80d3-e1335adf14f8",
   "metadata": {},
   "outputs": [],
   "source": [
    "# 4. Đánh giá mô hình Neural Network trên tập test\n",
    "nn_score = model.evaluate(X_test, y_test)\n",
    "print('Neural Network Test Loss:', nn_score)"
   ]
  },
  {
   "cell_type": "code",
   "execution_count": null,
   "id": "fdd4d192-eac0-4b34-a7f5-07e88261a5f0",
   "metadata": {},
   "outputs": [],
   "source": [
    "# 5. Phân tích các trường hợp sai và cải tiến\n",
    "y_pred_nn = model.predict(X_test)\n",
    "mse_nn = mean_squared_error(y_test, y_pred_nn)\n",
    "print('Neural Network Mean Squared Error:', mse_nn)"
   ]
  },
  {
   "cell_type": "code",
   "execution_count": null,
   "id": "9ee13eef-be5a-46aa-83cc-6489c36cfab8",
   "metadata": {},
   "outputs": [],
   "source": [
    "# Cải tiến mô hình Neural Network\n",
    "model_reg = Sequential()\n",
    "model_reg.add(Dense(64, activation='relu', kernel_regularizer=regularizers.l2(0.01), input_dim=X_train.shape[1]))\n",
    "model_reg.add(Dropout(0.2))\n",
    "model_reg.add(Dense(32, activation='relu', kernel_regularizer=regularizers.l2(0.01)))\n",
    "model_reg.add(Dense(1))\n",
    "\n",
    "model_reg.compile(optimizer='adam', loss='mean_squared_error')"
   ]
  },
  {
   "cell_type": "code",
   "execution_count": null,
   "id": "6cc89657-df71-49de-9a61-590bae92839d",
   "metadata": {},
   "outputs": [],
   "source": [
    "# Early stopping and regularization\n",
    "history_reg = model_reg.fit(X_train, y_train, epochs=50, batch_size=32, validation_split=0.2, callbacks=[early_stopping])"
   ]
  },
  {
   "cell_type": "code",
   "execution_count": null,
   "id": "bf661627-3314-4bf3-9a96-cdbe8eb2060e",
   "metadata": {},
   "outputs": [],
   "source": [
    "# Đánh giá mô hình Neural Network cải tiến trên tập test\n",
    "nn_reg_score = model_reg.evaluate(X_test, y_test)\n",
    "print('Regularized Neural Network Test Loss:', nn_reg_score)"
   ]
  },
  {
   "cell_type": "code",
   "execution_count": null,
   "id": "f2ccb34f-7362-481a-96b7-1b8156f83617",
   "metadata": {},
   "outputs": [],
   "source": []
  }
 ],
 "metadata": {
  "kernelspec": {
   "display_name": "anaconda-panel-2023.05-py310",
   "language": "python",
   "name": "conda-env-anaconda-panel-2023.05-py310-py"
  },
  "language_info": {
   "codemirror_mode": {
    "name": "ipython",
    "version": 3
   },
   "file_extension": ".py",
   "mimetype": "text/x-python",
   "name": "python",
   "nbconvert_exporter": "python",
   "pygments_lexer": "ipython3",
   "version": "3.11.5"
  }
 },
 "nbformat": 4,
 "nbformat_minor": 5
}
